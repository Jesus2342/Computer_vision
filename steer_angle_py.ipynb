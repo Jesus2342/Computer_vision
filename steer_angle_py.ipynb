{
  "nbformat": 4,
  "nbformat_minor": 0,
  "metadata": {
    "colab": {
      "provenance": [],
      "include_colab_link": true
    },
    "kernelspec": {
      "name": "python3",
      "display_name": "Python 3"
    },
    "language_info": {
      "name": "python"
    }
  },
  "cells": [
    {
      "cell_type": "markdown",
      "metadata": {
        "id": "view-in-github",
        "colab_type": "text"
      },
      "source": [
        "<a href=\"https://colab.research.google.com/github/Jesus2342/Computer_vision/blob/proyecto_final/steer_angle_py.ipynb\" target=\"_parent\"><img src=\"https://colab.research.google.com/assets/colab-badge.svg\" alt=\"Open In Colab\"/></a>"
      ]
    },
    {
      "cell_type": "code",
      "execution_count": null,
      "metadata": {
        "id": "BkL6-fjvfG9L"
      },
      "outputs": [],
      "source": [
        "import tensorflow as tf\n",
        "from tensorflow.keras.models import Sequential\n",
        "from tensorflow.keras.layers import Conv2D, MaxPooling2D, Flatten, Dense\n",
        "from tensorflow.keras.preprocessing.image import ImageDataGenerator\n",
        "import pandas as pd\n",
        "import numpy as np\n",
        "import cv2\n",
        "import os\n",
        "from sklearn.model_selection import train_test_split\n"
      ]
    },
    {
      "cell_type": "code",
      "source": [
        "from google.colab import drive\n",
        "drive.mount('/content/drive')"
      ],
      "metadata": {
        "id": "r1qq5J3mfiC4",
        "colab": {
          "base_uri": "https://localhost:8080/"
        },
        "outputId": "c9685388-087a-4076-c8cb-408512b3ffc3"
      },
      "execution_count": null,
      "outputs": [
        {
          "output_type": "stream",
          "name": "stdout",
          "text": [
            "Mounted at /content/drive\n"
          ]
        }
      ]
    },
    {
      "cell_type": "code",
      "source": [
        "import os\n",
        "DIR = \"/content/drive/MyDrive/Colab Notebooks/Vision_computacional/deep_net/\"\n",
        "os.chdir(DIR)"
      ],
      "metadata": {
        "id": "JQEyDil-iXsA"
      },
      "execution_count": null,
      "outputs": []
    },
    {
      "cell_type": "code",
      "source": [
        "\n",
        "#Path del primer archivo csv\n",
        "image_folder_path_1 =\"/content/drive/MyDrive/Colab Notebooks/Vision_computacional/deep_net/DAY_1_Dataset\"\n",
        "os.chdir(image_folder_path_1)\n",
        "csv_file_day_1 = \"day_1_dataset_report.csv\" #Nombre del primer archivo excel\n",
        "dataset_day_1 = pd.read_csv(csv_file_day_1)\n",
        "\n",
        "dataset_day_1.head(3)"
      ],
      "metadata": {
        "id": "TVVgdDSzinRU",
        "colab": {
          "base_uri": "https://localhost:8080/",
          "height": 143
        },
        "outputId": "49c5a250-32ae-4d30-c8cd-40e9055d58cb"
      },
      "execution_count": null,
      "outputs": [
        {
          "output_type": "execute_result",
          "data": {
            "text/plain": [
              "                image_name  steering_angle\n",
              "0  2024-06-19 18-53-22.png            0.00\n",
              "1  2024-06-19 18-53-27.png            0.08\n",
              "2  2024-06-19 18-53-32.png            0.08"
            ],
            "text/html": [
              "\n",
              "  <div id=\"df-1c6bf751-cd22-4083-a4c5-3983ee8abdef\" class=\"colab-df-container\">\n",
              "    <div>\n",
              "<style scoped>\n",
              "    .dataframe tbody tr th:only-of-type {\n",
              "        vertical-align: middle;\n",
              "    }\n",
              "\n",
              "    .dataframe tbody tr th {\n",
              "        vertical-align: top;\n",
              "    }\n",
              "\n",
              "    .dataframe thead th {\n",
              "        text-align: right;\n",
              "    }\n",
              "</style>\n",
              "<table border=\"1\" class=\"dataframe\">\n",
              "  <thead>\n",
              "    <tr style=\"text-align: right;\">\n",
              "      <th></th>\n",
              "      <th>image_name</th>\n",
              "      <th>steering_angle</th>\n",
              "    </tr>\n",
              "  </thead>\n",
              "  <tbody>\n",
              "    <tr>\n",
              "      <th>0</th>\n",
              "      <td>2024-06-19 18-53-22.png</td>\n",
              "      <td>0.00</td>\n",
              "    </tr>\n",
              "    <tr>\n",
              "      <th>1</th>\n",
              "      <td>2024-06-19 18-53-27.png</td>\n",
              "      <td>0.08</td>\n",
              "    </tr>\n",
              "    <tr>\n",
              "      <th>2</th>\n",
              "      <td>2024-06-19 18-53-32.png</td>\n",
              "      <td>0.08</td>\n",
              "    </tr>\n",
              "  </tbody>\n",
              "</table>\n",
              "</div>\n",
              "    <div class=\"colab-df-buttons\">\n",
              "\n",
              "  <div class=\"colab-df-container\">\n",
              "    <button class=\"colab-df-convert\" onclick=\"convertToInteractive('df-1c6bf751-cd22-4083-a4c5-3983ee8abdef')\"\n",
              "            title=\"Convert this dataframe to an interactive table.\"\n",
              "            style=\"display:none;\">\n",
              "\n",
              "  <svg xmlns=\"http://www.w3.org/2000/svg\" height=\"24px\" viewBox=\"0 -960 960 960\">\n",
              "    <path d=\"M120-120v-720h720v720H120Zm60-500h600v-160H180v160Zm220 220h160v-160H400v160Zm0 220h160v-160H400v160ZM180-400h160v-160H180v160Zm440 0h160v-160H620v160ZM180-180h160v-160H180v160Zm440 0h160v-160H620v160Z\"/>\n",
              "  </svg>\n",
              "    </button>\n",
              "\n",
              "  <style>\n",
              "    .colab-df-container {\n",
              "      display:flex;\n",
              "      gap: 12px;\n",
              "    }\n",
              "\n",
              "    .colab-df-convert {\n",
              "      background-color: #E8F0FE;\n",
              "      border: none;\n",
              "      border-radius: 50%;\n",
              "      cursor: pointer;\n",
              "      display: none;\n",
              "      fill: #1967D2;\n",
              "      height: 32px;\n",
              "      padding: 0 0 0 0;\n",
              "      width: 32px;\n",
              "    }\n",
              "\n",
              "    .colab-df-convert:hover {\n",
              "      background-color: #E2EBFA;\n",
              "      box-shadow: 0px 1px 2px rgba(60, 64, 67, 0.3), 0px 1px 3px 1px rgba(60, 64, 67, 0.15);\n",
              "      fill: #174EA6;\n",
              "    }\n",
              "\n",
              "    .colab-df-buttons div {\n",
              "      margin-bottom: 4px;\n",
              "    }\n",
              "\n",
              "    [theme=dark] .colab-df-convert {\n",
              "      background-color: #3B4455;\n",
              "      fill: #D2E3FC;\n",
              "    }\n",
              "\n",
              "    [theme=dark] .colab-df-convert:hover {\n",
              "      background-color: #434B5C;\n",
              "      box-shadow: 0px 1px 3px 1px rgba(0, 0, 0, 0.15);\n",
              "      filter: drop-shadow(0px 1px 2px rgba(0, 0, 0, 0.3));\n",
              "      fill: #FFFFFF;\n",
              "    }\n",
              "  </style>\n",
              "\n",
              "    <script>\n",
              "      const buttonEl =\n",
              "        document.querySelector('#df-1c6bf751-cd22-4083-a4c5-3983ee8abdef button.colab-df-convert');\n",
              "      buttonEl.style.display =\n",
              "        google.colab.kernel.accessAllowed ? 'block' : 'none';\n",
              "\n",
              "      async function convertToInteractive(key) {\n",
              "        const element = document.querySelector('#df-1c6bf751-cd22-4083-a4c5-3983ee8abdef');\n",
              "        const dataTable =\n",
              "          await google.colab.kernel.invokeFunction('convertToInteractive',\n",
              "                                                    [key], {});\n",
              "        if (!dataTable) return;\n",
              "\n",
              "        const docLinkHtml = 'Like what you see? Visit the ' +\n",
              "          '<a target=\"_blank\" href=https://colab.research.google.com/notebooks/data_table.ipynb>data table notebook</a>'\n",
              "          + ' to learn more about interactive tables.';\n",
              "        element.innerHTML = '';\n",
              "        dataTable['output_type'] = 'display_data';\n",
              "        await google.colab.output.renderOutput(dataTable, element);\n",
              "        const docLink = document.createElement('div');\n",
              "        docLink.innerHTML = docLinkHtml;\n",
              "        element.appendChild(docLink);\n",
              "      }\n",
              "    </script>\n",
              "  </div>\n",
              "\n",
              "\n",
              "<div id=\"df-48c69f83-7ad4-4dd0-a0b9-1c198a425ba5\">\n",
              "  <button class=\"colab-df-quickchart\" onclick=\"quickchart('df-48c69f83-7ad4-4dd0-a0b9-1c198a425ba5')\"\n",
              "            title=\"Suggest charts\"\n",
              "            style=\"display:none;\">\n",
              "\n",
              "<svg xmlns=\"http://www.w3.org/2000/svg\" height=\"24px\"viewBox=\"0 0 24 24\"\n",
              "     width=\"24px\">\n",
              "    <g>\n",
              "        <path d=\"M19 3H5c-1.1 0-2 .9-2 2v14c0 1.1.9 2 2 2h14c1.1 0 2-.9 2-2V5c0-1.1-.9-2-2-2zM9 17H7v-7h2v7zm4 0h-2V7h2v10zm4 0h-2v-4h2v4z\"/>\n",
              "    </g>\n",
              "</svg>\n",
              "  </button>\n",
              "\n",
              "<style>\n",
              "  .colab-df-quickchart {\n",
              "      --bg-color: #E8F0FE;\n",
              "      --fill-color: #1967D2;\n",
              "      --hover-bg-color: #E2EBFA;\n",
              "      --hover-fill-color: #174EA6;\n",
              "      --disabled-fill-color: #AAA;\n",
              "      --disabled-bg-color: #DDD;\n",
              "  }\n",
              "\n",
              "  [theme=dark] .colab-df-quickchart {\n",
              "      --bg-color: #3B4455;\n",
              "      --fill-color: #D2E3FC;\n",
              "      --hover-bg-color: #434B5C;\n",
              "      --hover-fill-color: #FFFFFF;\n",
              "      --disabled-bg-color: #3B4455;\n",
              "      --disabled-fill-color: #666;\n",
              "  }\n",
              "\n",
              "  .colab-df-quickchart {\n",
              "    background-color: var(--bg-color);\n",
              "    border: none;\n",
              "    border-radius: 50%;\n",
              "    cursor: pointer;\n",
              "    display: none;\n",
              "    fill: var(--fill-color);\n",
              "    height: 32px;\n",
              "    padding: 0;\n",
              "    width: 32px;\n",
              "  }\n",
              "\n",
              "  .colab-df-quickchart:hover {\n",
              "    background-color: var(--hover-bg-color);\n",
              "    box-shadow: 0 1px 2px rgba(60, 64, 67, 0.3), 0 1px 3px 1px rgba(60, 64, 67, 0.15);\n",
              "    fill: var(--button-hover-fill-color);\n",
              "  }\n",
              "\n",
              "  .colab-df-quickchart-complete:disabled,\n",
              "  .colab-df-quickchart-complete:disabled:hover {\n",
              "    background-color: var(--disabled-bg-color);\n",
              "    fill: var(--disabled-fill-color);\n",
              "    box-shadow: none;\n",
              "  }\n",
              "\n",
              "  .colab-df-spinner {\n",
              "    border: 2px solid var(--fill-color);\n",
              "    border-color: transparent;\n",
              "    border-bottom-color: var(--fill-color);\n",
              "    animation:\n",
              "      spin 1s steps(1) infinite;\n",
              "  }\n",
              "\n",
              "  @keyframes spin {\n",
              "    0% {\n",
              "      border-color: transparent;\n",
              "      border-bottom-color: var(--fill-color);\n",
              "      border-left-color: var(--fill-color);\n",
              "    }\n",
              "    20% {\n",
              "      border-color: transparent;\n",
              "      border-left-color: var(--fill-color);\n",
              "      border-top-color: var(--fill-color);\n",
              "    }\n",
              "    30% {\n",
              "      border-color: transparent;\n",
              "      border-left-color: var(--fill-color);\n",
              "      border-top-color: var(--fill-color);\n",
              "      border-right-color: var(--fill-color);\n",
              "    }\n",
              "    40% {\n",
              "      border-color: transparent;\n",
              "      border-right-color: var(--fill-color);\n",
              "      border-top-color: var(--fill-color);\n",
              "    }\n",
              "    60% {\n",
              "      border-color: transparent;\n",
              "      border-right-color: var(--fill-color);\n",
              "    }\n",
              "    80% {\n",
              "      border-color: transparent;\n",
              "      border-right-color: var(--fill-color);\n",
              "      border-bottom-color: var(--fill-color);\n",
              "    }\n",
              "    90% {\n",
              "      border-color: transparent;\n",
              "      border-bottom-color: var(--fill-color);\n",
              "    }\n",
              "  }\n",
              "</style>\n",
              "\n",
              "  <script>\n",
              "    async function quickchart(key) {\n",
              "      const quickchartButtonEl =\n",
              "        document.querySelector('#' + key + ' button');\n",
              "      quickchartButtonEl.disabled = true;  // To prevent multiple clicks.\n",
              "      quickchartButtonEl.classList.add('colab-df-spinner');\n",
              "      try {\n",
              "        const charts = await google.colab.kernel.invokeFunction(\n",
              "            'suggestCharts', [key], {});\n",
              "      } catch (error) {\n",
              "        console.error('Error during call to suggestCharts:', error);\n",
              "      }\n",
              "      quickchartButtonEl.classList.remove('colab-df-spinner');\n",
              "      quickchartButtonEl.classList.add('colab-df-quickchart-complete');\n",
              "    }\n",
              "    (() => {\n",
              "      let quickchartButtonEl =\n",
              "        document.querySelector('#df-48c69f83-7ad4-4dd0-a0b9-1c198a425ba5 button');\n",
              "      quickchartButtonEl.style.display =\n",
              "        google.colab.kernel.accessAllowed ? 'block' : 'none';\n",
              "    })();\n",
              "  </script>\n",
              "</div>\n",
              "\n",
              "    </div>\n",
              "  </div>\n"
            ],
            "application/vnd.google.colaboratory.intrinsic+json": {
              "type": "dataframe",
              "variable_name": "dataset_day_1",
              "summary": "{\n  \"name\": \"dataset_day_1\",\n  \"rows\": 562,\n  \"fields\": [\n    {\n      \"column\": \"image_name\",\n      \"properties\": {\n        \"dtype\": \"string\",\n        \"num_unique_values\": 562,\n        \"samples\": [\n          \"2024-06-19 19-34-13.png\",\n          \"2024-06-19 19-31-37.png\",\n          \"2024-06-19 19-27-41.png\"\n        ],\n        \"semantic_type\": \"\",\n        \"description\": \"\"\n      }\n    },\n    {\n      \"column\": \"steering_angle\",\n      \"properties\": {\n        \"dtype\": \"number\",\n        \"std\": 0.1531896499320456,\n        \"min\": -0.5,\n        \"max\": 0.5,\n        \"num_unique_values\": 45,\n        \"samples\": [\n          0.32,\n          0.22,\n          -0.34\n        ],\n        \"semantic_type\": \"\",\n        \"description\": \"\"\n      }\n    }\n  ]\n}"
            }
          },
          "metadata": {},
          "execution_count": 28
        }
      ]
    },
    {
      "cell_type": "code",
      "source": [
        "print(image_folder_path_1)"
      ],
      "metadata": {
        "colab": {
          "base_uri": "https://localhost:8080/"
        },
        "id": "d0MMSr4AT2kl",
        "outputId": "31b42be7-d535-44b9-886b-228154930d59"
      },
      "execution_count": null,
      "outputs": [
        {
          "output_type": "stream",
          "name": "stdout",
          "text": [
            "/content/drive/MyDrive/Colab Notebooks/Vision_computacional/deep_net/DAY_1_Dataset\n"
          ]
        }
      ]
    },
    {
      "cell_type": "code",
      "source": [
        "#Estrategia: Las imagenes deben estandarizar una dimension de 36x18, ademas de contar con dos canales.\n",
        "\n",
        "def estandarizar(imagen):\n",
        "    img=cv2.imread(imagen)\n",
        "    dim=img.shape\n",
        "\n",
        "    #Obtener las dimensiones de la imagen en gris\n",
        "    current_weight, current_height =img.shape[:2]\n",
        "\n",
        "    #Acorde a nuestro patron de clasificacion, las imagenes deben medir 64x64\n",
        "\n",
        "    std_weight=64\n",
        "    std_height=64\n",
        "\n",
        "    #Escenario si nuestra imagen tiene un alto y ancho diferente al especificado\n",
        "    if current_height>std_height or current_weight>std_weight:\n",
        "        #Actualizar la altura actual\n",
        "        current_height=std_height\n",
        "        #Actualizar el ancho actual\n",
        "        current_weight=std_weight\n",
        "        #Confirmar las dimensiones\n",
        "        updated_dim=(current_height,current_weight)\n",
        "        #Realizar el resize\n",
        "        img=cv2.resize(img,updated_dim)\n",
        "        #Normalizar\n",
        "        img=img/255\n",
        "\n",
        "\n",
        "    #Cambio a gris si hay 3 colores en la imagen\n",
        "    #if (len(dim)==3):\n",
        "     #   img_gray = cv2.cvtColor(img,cv2.COLOR_BGR2GRAY)\n",
        "\n",
        "    #Si la imagen ya tiene dos calores se conserva sin hacer cambios\n",
        "   # else:\n",
        "    #    img_gray = img\n",
        "\n",
        "\n",
        "    return img"
      ],
      "metadata": {
        "id": "MDJeT0BQjjRu"
      },
      "execution_count": null,
      "outputs": []
    },
    {
      "cell_type": "code",
      "source": [
        "imagenes=[]\n",
        "angulos=[]"
      ],
      "metadata": {
        "id": "wZBd_zo_kST8"
      },
      "execution_count": null,
      "outputs": []
    },
    {
      "cell_type": "code",
      "source": [
        "for index, row in dataset_day_1.iterrows():\n",
        "    img_path= os.path.join(image_folder_path_1,row['image_name'])\n",
        "    img=estandarizar(img_path)\n",
        "    imagenes.append(img)\n",
        "    angulos.append(row['steering_angle'])"
      ],
      "metadata": {
        "id": "xSqHSBRglAoV"
      },
      "execution_count": null,
      "outputs": []
    },
    {
      "cell_type": "code",
      "source": [
        "def iteracion_index_row(data_set_day, path_imagenes):\n",
        "    for index, row in data_set_day.iterrows():\n",
        "        img_path= os.path.join(path_imagenes,row['image_name'])\n",
        "        img=estandarizar(img_path)\n",
        "        imagenes.append(img)\n",
        "        angulos.append(row['steering_angle'])\n",
        "\n",
        "    return imagenes, angulos\n"
      ],
      "metadata": {
        "id": "932NO-tDce-C"
      },
      "execution_count": null,
      "outputs": []
    },
    {
      "cell_type": "code",
      "source": [
        "lectura_imagenes_angulos_dataset_1=iteracion_index_row(dataset_day_1, image_folder_path_1)"
      ],
      "metadata": {
        "id": "PNREBH7Fc9Ej"
      },
      "execution_count": null,
      "outputs": []
    },
    {
      "cell_type": "code",
      "source": [
        "print(f\"Cantidad de imagenes: {len(imagenes)}\")\n",
        "print(f\"Cantidad de angulos: {len(angulos)}\")"
      ],
      "metadata": {
        "colab": {
          "base_uri": "https://localhost:8080/"
        },
        "id": "NtWaYFwq0u7o",
        "outputId": "a51ac919-0d04-4191-a84a-1e409d4c46e9"
      },
      "execution_count": null,
      "outputs": [
        {
          "output_type": "stream",
          "name": "stdout",
          "text": [
            "Cantidad de imagenes: 562\n",
            "Cantidad de angulos: 562\n"
          ]
        }
      ]
    },
    {
      "cell_type": "code",
      "source": [
        "print(image_folder_path_1)"
      ],
      "metadata": {
        "colab": {
          "base_uri": "https://localhost:8080/"
        },
        "id": "Xq3402gCXD6_",
        "outputId": "01cb1cac-f17f-4009-ab64-088c7aacdc56"
      },
      "execution_count": null,
      "outputs": [
        {
          "output_type": "stream",
          "name": "stdout",
          "text": [
            "/content/drive/MyDrive/Colab Notebooks/Vision_computacional/deep_net/DAY_1_Dataset\n"
          ]
        }
      ]
    },
    {
      "cell_type": "code",
      "source": [
        "plt.imshow(imagenes[327])"
      ],
      "metadata": {
        "colab": {
          "base_uri": "https://localhost:8080/",
          "height": 449
        },
        "id": "Zm1IM4mrWX-g",
        "outputId": "7ca911a5-465d-49fe-ff71-5a2f8a02f431"
      },
      "execution_count": null,
      "outputs": [
        {
          "output_type": "execute_result",
          "data": {
            "text/plain": [
              "<matplotlib.image.AxesImage at 0x7d2203158700>"
            ]
          },
          "metadata": {},
          "execution_count": 44
        },
        {
          "output_type": "display_data",
          "data": {
            "text/plain": [
              "<Figure size 640x480 with 1 Axes>"
            ],
            "image/png": "[encoded data removed]"
          },
          "metadata": {}
        }
      ]
    },
    {
      "cell_type": "code",
      "source": [
        "print(angulos[327])"
      ],
      "metadata": {
        "colab": {
          "base_uri": "https://localhost:8080/"
        },
        "id": "tl6QEzmVWgxx",
        "outputId": "6e177f87-d207-4af6-e0fb-93948037c304"
      },
      "execution_count": null,
      "outputs": [
        {
          "output_type": "stream",
          "name": "stdout",
          "text": [
            "-0.2\n"
          ]
        }
      ]
    },
    {
      "cell_type": "code",
      "source": [
        "#Path del primer archivo csv\n",
        "image_folder_path_2 =\"/content/drive/MyDrive/Colab Notebooks/Vision_computacional/deep_net/DAY_2_Dataset\"\n",
        "os.chdir(image_folder_path_2)\n",
        "csv_file_day_2 = \"day_2_dataset_report.csv\" #Nombre del primer archivo excel\n",
        "dataset_day_2 = pd.read_csv(csv_file_day_2)\n",
        "\n",
        "dataset_day_2.head(3)"
      ],
      "metadata": {
        "colab": {
          "base_uri": "https://localhost:8080/",
          "height": 143
        },
        "id": "ZCixddU6YkDS",
        "outputId": "d938d217-de0e-489f-c036-baf5d68f00f1"
      },
      "execution_count": null,
      "outputs": [
        {
          "output_type": "execute_result",
          "data": {
            "text/plain": [
              "                image_name  steering_angle\n",
              "0  2024-06-20 17-19-05.png            0.00\n",
              "1  2024-06-20 17-19-10.png            0.12\n",
              "2  2024-06-20 17-19-15.png            0.12"
            ],
            "text/html": [
              "\n",
              "  <div id=\"df-e5fdd61c-436f-4497-8bb9-790b03f76ea2\" class=\"colab-df-container\">\n",
              "    <div>\n",
              "<style scoped>\n",
              "    .dataframe tbody tr th:only-of-type {\n",
              "        vertical-align: middle;\n",
              "    }\n",
              "\n",
              "    .dataframe tbody tr th {\n",
              "        vertical-align: top;\n",
              "    }\n",
              "\n",
              "    .dataframe thead th {\n",
              "        text-align: right;\n",
              "    }\n",
              "</style>\n",
              "<table border=\"1\" class=\"dataframe\">\n",
              "  <thead>\n",
              "    <tr style=\"text-align: right;\">\n",
              "      <th></th>\n",
              "      <th>image_name</th>\n",
              "      <th>steering_angle</th>\n",
              "    </tr>\n",
              "  </thead>\n",
              "  <tbody>\n",
              "    <tr>\n",
              "      <th>0</th>\n",
              "      <td>2024-06-20 17-19-05.png</td>\n",
              "      <td>0.00</td>\n",
              "    </tr>\n",
              "    <tr>\n",
              "      <th>1</th>\n",
              "      <td>2024-06-20 17-19-10.png</td>\n",
              "      <td>0.12</td>\n",
              "    </tr>\n",
              "    <tr>\n",
              "      <th>2</th>\n",
              "      <td>2024-06-20 17-19-15.png</td>\n",
              "      <td>0.12</td>\n",
              "    </tr>\n",
              "  </tbody>\n",
              "</table>\n",
              "</div>\n",
              "    <div class=\"colab-df-buttons\">\n",
              "\n",
              "  <div class=\"colab-df-container\">\n",
              "    <button class=\"colab-df-convert\" onclick=\"convertToInteractive('df-e5fdd61c-436f-4497-8bb9-790b03f76ea2')\"\n",
              "            title=\"Convert this dataframe to an interactive table.\"\n",
              "            style=\"display:none;\">\n",
              "\n",
              "  <svg xmlns=\"http://www.w3.org/2000/svg\" height=\"24px\" viewBox=\"0 -960 960 960\">\n",
              "    <path d=\"M120-120v-720h720v720H120Zm60-500h600v-160H180v160Zm220 220h160v-160H400v160Zm0 220h160v-160H400v160ZM180-400h160v-160H180v160Zm440 0h160v-160H620v160ZM180-180h160v-160H180v160Zm440 0h160v-160H620v160Z\"/>\n",
              "  </svg>\n",
              "    </button>\n",
              "\n",
              "  <style>\n",
              "    .colab-df-container {\n",
              "      display:flex;\n",
              "      gap: 12px;\n",
              "    }\n",
              "\n",
              "    .colab-df-convert {\n",
              "      background-color: #E8F0FE;\n",
              "      border: none;\n",
              "      border-radius: 50%;\n",
              "      cursor: pointer;\n",
              "      display: none;\n",
              "      fill: #1967D2;\n",
              "      height: 32px;\n",
              "      padding: 0 0 0 0;\n",
              "      width: 32px;\n",
              "    }\n",
              "\n",
              "    .colab-df-convert:hover {\n",
              "      background-color: #E2EBFA;\n",
              "      box-shadow: 0px 1px 2px rgba(60, 64, 67, 0.3), 0px 1px 3px 1px rgba(60, 64, 67, 0.15);\n",
              "      fill: #174EA6;\n",
              "    }\n",
              "\n",
              "    .colab-df-buttons div {\n",
              "      margin-bottom: 4px;\n",
              "    }\n",
              "\n",
              "    [theme=dark] .colab-df-convert {\n",
              "      background-color: #3B4455;\n",
              "      fill: #D2E3FC;\n",
              "    }\n",
              "\n",
              "    [theme=dark] .colab-df-convert:hover {\n",
              "      background-color: #434B5C;\n",
              "      box-shadow: 0px 1px 3px 1px rgba(0, 0, 0, 0.15);\n",
              "      filter: drop-shadow(0px 1px 2px rgba(0, 0, 0, 0.3));\n",
              "      fill: #FFFFFF;\n",
              "    }\n",
              "  </style>\n",
              "\n",
              "    <script>\n",
              "      const buttonEl =\n",
              "        document.querySelector('#df-e5fdd61c-436f-4497-8bb9-790b03f76ea2 button.colab-df-convert');\n",
              "      buttonEl.style.display =\n",
              "        google.colab.kernel.accessAllowed ? 'block' : 'none';\n",
              "\n",
              "      async function convertToInteractive(key) {\n",
              "        const element = document.querySelector('#df-e5fdd61c-436f-4497-8bb9-790b03f76ea2');\n",
              "        const dataTable =\n",
              "          await google.colab.kernel.invokeFunction('convertToInteractive',\n",
              "                                                    [key], {});\n",
              "        if (!dataTable) return;\n",
              "\n",
              "        const docLinkHtml = 'Like what you see? Visit the ' +\n",
              "          '<a target=\"_blank\" href=https://colab.research.google.com/notebooks/data_table.ipynb>data table notebook</a>'\n",
              "          + ' to learn more about interactive tables.';\n",
              "        element.innerHTML = '';\n",
              "        dataTable['output_type'] = 'display_data';\n",
              "        await google.colab.output.renderOutput(dataTable, element);\n",
              "        const docLink = document.createElement('div');\n",
              "        docLink.innerHTML = docLinkHtml;\n",
              "        element.appendChild(docLink);\n",
              "      }\n",
              "    </script>\n",
              "  </div>\n",
              "\n",
              "\n",
              "<div id=\"df-bc16d734-1ec7-4b3d-9319-3f76deaaa1fd\">\n",
              "  <button class=\"colab-df-quickchart\" onclick=\"quickchart('df-bc16d734-1ec7-4b3d-9319-3f76deaaa1fd')\"\n",
              "            title=\"Suggest charts\"\n",
              "            style=\"display:none;\">\n",
              "\n",
              "<svg xmlns=\"http://www.w3.org/2000/svg\" height=\"24px\"viewBox=\"0 0 24 24\"\n",
              "     width=\"24px\">\n",
              "    <g>\n",
              "        <path d=\"M19 3H5c-1.1 0-2 .9-2 2v14c0 1.1.9 2 2 2h14c1.1 0 2-.9 2-2V5c0-1.1-.9-2-2-2zM9 17H7v-7h2v7zm4 0h-2V7h2v10zm4 0h-2v-4h2v4z\"/>\n",
              "    </g>\n",
              "</svg>\n",
              "  </button>\n",
              "\n",
              "<style>\n",
              "  .colab-df-quickchart {\n",
              "      --bg-color: #E8F0FE;\n",
              "      --fill-color: #1967D2;\n",
              "      --hover-bg-color: #E2EBFA;\n",
              "      --hover-fill-color: #174EA6;\n",
              "      --disabled-fill-color: #AAA;\n",
              "      --disabled-bg-color: #DDD;\n",
              "  }\n",
              "\n",
              "  [theme=dark] .colab-df-quickchart {\n",
              "      --bg-color: #3B4455;\n",
              "      --fill-color: #D2E3FC;\n",
              "      --hover-bg-color: #434B5C;\n",
              "      --hover-fill-color: #FFFFFF;\n",
              "      --disabled-bg-color: #3B4455;\n",
              "      --disabled-fill-color: #666;\n",
              "  }\n",
              "\n",
              "  .colab-df-quickchart {\n",
              "    background-color: var(--bg-color);\n",
              "    border: none;\n",
              "    border-radius: 50%;\n",
              "    cursor: pointer;\n",
              "    display: none;\n",
              "    fill: var(--fill-color);\n",
              "    height: 32px;\n",
              "    padding: 0;\n",
              "    width: 32px;\n",
              "  }\n",
              "\n",
              "  .colab-df-quickchart:hover {\n",
              "    background-color: var(--hover-bg-color);\n",
              "    box-shadow: 0 1px 2px rgba(60, 64, 67, 0.3), 0 1px 3px 1px rgba(60, 64, 67, 0.15);\n",
              "    fill: var(--button-hover-fill-color);\n",
              "  }\n",
              "\n",
              "  .colab-df-quickchart-complete:disabled,\n",
              "  .colab-df-quickchart-complete:disabled:hover {\n",
              "    background-color: var(--disabled-bg-color);\n",
              "    fill: var(--disabled-fill-color);\n",
              "    box-shadow: none;\n",
              "  }\n",
              "\n",
              "  .colab-df-spinner {\n",
              "    border: 2px solid var(--fill-color);\n",
              "    border-color: transparent;\n",
              "    border-bottom-color: var(--fill-color);\n",
              "    animation:\n",
              "      spin 1s steps(1) infinite;\n",
              "  }\n",
              "\n",
              "  @keyframes spin {\n",
              "    0% {\n",
              "      border-color: transparent;\n",
              "      border-bottom-color: var(--fill-color);\n",
              "      border-left-color: var(--fill-color);\n",
              "    }\n",
              "    20% {\n",
              "      border-color: transparent;\n",
              "      border-left-color: var(--fill-color);\n",
              "      border-top-color: var(--fill-color);\n",
              "    }\n",
              "    30% {\n",
              "      border-color: transparent;\n",
              "      border-left-color: var(--fill-color);\n",
              "      border-top-color: var(--fill-color);\n",
              "      border-right-color: var(--fill-color);\n",
              "    }\n",
              "    40% {\n",
              "      border-color: transparent;\n",
              "      border-right-color: var(--fill-color);\n",
              "      border-top-color: var(--fill-color);\n",
              "    }\n",
              "    60% {\n",
              "      border-color: transparent;\n",
              "      border-right-color: var(--fill-color);\n",
              "    }\n",
              "    80% {\n",
              "      border-color: transparent;\n",
              "      border-right-color: var(--fill-color);\n",
              "      border-bottom-color: var(--fill-color);\n",
              "    }\n",
              "    90% {\n",
              "      border-color: transparent;\n",
              "      border-bottom-color: var(--fill-color);\n",
              "    }\n",
              "  }\n",
              "</style>\n",
              "\n",
              "  <script>\n",
              "    async function quickchart(key) {\n",
              "      const quickchartButtonEl =\n",
              "        document.querySelector('#' + key + ' button');\n",
              "      quickchartButtonEl.disabled = true;  // To prevent multiple clicks.\n",
              "      quickchartButtonEl.classList.add('colab-df-spinner');\n",
              "      try {\n",
              "        const charts = await google.colab.kernel.invokeFunction(\n",
              "            'suggestCharts', [key], {});\n",
              "      } catch (error) {\n",
              "        console.error('Error during call to suggestCharts:', error);\n",
              "      }\n",
              "      quickchartButtonEl.classList.remove('colab-df-spinner');\n",
              "      quickchartButtonEl.classList.add('colab-df-quickchart-complete');\n",
              "    }\n",
              "    (() => {\n",
              "      let quickchartButtonEl =\n",
              "        document.querySelector('#df-bc16d734-1ec7-4b3d-9319-3f76deaaa1fd button');\n",
              "      quickchartButtonEl.style.display =\n",
              "        google.colab.kernel.accessAllowed ? 'block' : 'none';\n",
              "    })();\n",
              "  </script>\n",
              "</div>\n",
              "\n",
              "    </div>\n",
              "  </div>\n"
            ],
            "application/vnd.google.colaboratory.intrinsic+json": {
              "type": "dataframe",
              "variable_name": "dataset_day_2",
              "summary": "{\n  \"name\": \"dataset_day_2\",\n  \"rows\": 784,\n  \"fields\": [\n    {\n      \"column\": \"image_name\",\n      \"properties\": {\n        \"dtype\": \"string\",\n        \"num_unique_values\": 784,\n        \"samples\": [\n          \"2024-06-20 18-09-08.png\",\n          \"2024-06-20 18-08-28.png\",\n          \"2024-06-20 17-36-33.png\"\n        ],\n        \"semantic_type\": \"\",\n        \"description\": \"\"\n      }\n    },\n    {\n      \"column\": \"steering_angle\",\n      \"properties\": {\n        \"dtype\": \"number\",\n        \"std\": 0.14194953430558258,\n        \"min\": -0.5,\n        \"max\": 0.5,\n        \"num_unique_values\": 46,\n        \"samples\": [\n          0.2,\n          -0.5,\n          0.46\n        ],\n        \"semantic_type\": \"\",\n        \"description\": \"\"\n      }\n    }\n  ]\n}"
            }
          },
          "metadata": {},
          "execution_count": 57
        }
      ]
    },
    {
      "cell_type": "code",
      "source": [
        "for index, row in dataset_day_2.iterrows():\n",
        "    img_path= os.path.join(image_folder_path_2,row['image_name'])\n",
        "    print(img_path)\n",
        "    img=estandarizar(img_path)\n",
        "    imagenes.append(img)\n",
        "    angulos.append(row['steering_angle'])"
      ],
      "metadata": {
        "colab": {
          "base_uri": "https://localhost:8080/",
          "height": 488
        },
        "id": "zM0mO3sVY7Nw",
        "outputId": "72b4c762-e8b2-40ef-b15f-b591b44a4524"
      },
      "execution_count": null,
      "outputs": [
        {
          "output_type": "stream",
          "name": "stdout",
          "text": [
            "/content/drive/MyDrive/Colab Notebooks/Vision_computacional/deep_net/DAY_2_Dataset/2024-06-20 17-19-05.png\n",
            "/content/drive/MyDrive/Colab Notebooks/Vision_computacional/deep_net/DAY_2_Dataset/2024-06-20 17-19-10.png\n",
            "/content/drive/MyDrive/Colab Notebooks/Vision_computacional/deep_net/DAY_2_Dataset/2024-06-20 17-19-15.png\n",
            "/content/drive/MyDrive/Colab Notebooks/Vision_computacional/deep_net/DAY_2_Dataset/2024-06-20 17-19-20.png\n",
            "/content/drive/MyDrive/Colab Notebooks/Vision_computacional/deep_net/DAY_2_Dataset/2024-06-20 17-19-25.png\n",
            "/content/drive/MyDrive/Colab Notebooks/Vision_computacional/deep_net/DAY_2_Dataset/2024-06-20 17-19-30.png\n",
            "/content/drive/MyDrive/Colab Notebooks/Vision_computacional/deep_net/DAY_2_Dataset/2024-06-20 17-19-35.png\n",
            "/content/drive/MyDrive/Colab Notebooks/Vision_computacional/deep_net/DAY_2_Dataset/2024-06-20 17-19-40.png\n",
            "/content/drive/MyDrive/Colab Notebooks/Vision_computacional/deep_net/DAY_2_Dataset/2024-06-20 17-19-45.png\n"
          ]
        },
        {
          "output_type": "error",
          "ename": "KeyboardInterrupt",
          "evalue": "",
          "traceback": [
            "\u001b[0;31m---------------------------------------------------------------------------\u001b[0m",
            "\u001b[0;31mKeyboardInterrupt\u001b[0m                         Traceback (most recent call last)",
            "\u001b[0;32m<ipython-input-63-bafb3900a6bb>\u001b[0m in \u001b[0;36m<cell line: 1>\u001b[0;34m()\u001b[0m\n\u001b[1;32m      2\u001b[0m     \u001b[0mimg_path\u001b[0m\u001b[0;34m=\u001b[0m \u001b[0mos\u001b[0m\u001b[0;34m.\u001b[0m\u001b[0mpath\u001b[0m\u001b[0;34m.\u001b[0m\u001b[0mjoin\u001b[0m\u001b[0;34m(\u001b[0m\u001b[0mimage_folder_path_2\u001b[0m\u001b[0;34m,\u001b[0m\u001b[0mrow\u001b[0m\u001b[0;34m[\u001b[0m\u001b[0;34m'image_name'\u001b[0m\u001b[0;34m]\u001b[0m\u001b[0;34m)\u001b[0m\u001b[0;34m\u001b[0m\u001b[0;34m\u001b[0m\u001b[0m\n\u001b[1;32m      3\u001b[0m     \u001b[0mprint\u001b[0m\u001b[0;34m(\u001b[0m\u001b[0mimg_path\u001b[0m\u001b[0;34m)\u001b[0m\u001b[0;34m\u001b[0m\u001b[0;34m\u001b[0m\u001b[0m\n\u001b[0;32m----> 4\u001b[0;31m     \u001b[0mimg\u001b[0m\u001b[0;34m=\u001b[0m\u001b[0mestandarizar\u001b[0m\u001b[0;34m(\u001b[0m\u001b[0mimg_path\u001b[0m\u001b[0;34m)\u001b[0m\u001b[0;34m\u001b[0m\u001b[0;34m\u001b[0m\u001b[0m\n\u001b[0m\u001b[1;32m      5\u001b[0m     \u001b[0mimagenes\u001b[0m\u001b[0;34m.\u001b[0m\u001b[0mappend\u001b[0m\u001b[0;34m(\u001b[0m\u001b[0mimg\u001b[0m\u001b[0;34m)\u001b[0m\u001b[0;34m\u001b[0m\u001b[0;34m\u001b[0m\u001b[0m\n\u001b[1;32m      6\u001b[0m     \u001b[0mangulos\u001b[0m\u001b[0;34m.\u001b[0m\u001b[0mappend\u001b[0m\u001b[0;34m(\u001b[0m\u001b[0mrow\u001b[0m\u001b[0;34m[\u001b[0m\u001b[0;34m'steering_angle'\u001b[0m\u001b[0;34m]\u001b[0m\u001b[0;34m)\u001b[0m\u001b[0;34m\u001b[0m\u001b[0;34m\u001b[0m\u001b[0m\n",
            "\u001b[0;32m<ipython-input-30-0cacc421aea9>\u001b[0m in \u001b[0;36mestandarizar\u001b[0;34m(imagen)\u001b[0m\n\u001b[1;32m      2\u001b[0m \u001b[0;34m\u001b[0m\u001b[0m\n\u001b[1;32m      3\u001b[0m \u001b[0;32mdef\u001b[0m \u001b[0mestandarizar\u001b[0m\u001b[0;34m(\u001b[0m\u001b[0mimagen\u001b[0m\u001b[0;34m)\u001b[0m\u001b[0;34m:\u001b[0m\u001b[0;34m\u001b[0m\u001b[0;34m\u001b[0m\u001b[0m\n\u001b[0;32m----> 4\u001b[0;31m     \u001b[0mimg\u001b[0m\u001b[0;34m=\u001b[0m\u001b[0mcv2\u001b[0m\u001b[0;34m.\u001b[0m\u001b[0mimread\u001b[0m\u001b[0;34m(\u001b[0m\u001b[0mimagen\u001b[0m\u001b[0;34m)\u001b[0m\u001b[0;34m\u001b[0m\u001b[0;34m\u001b[0m\u001b[0m\n\u001b[0m\u001b[1;32m      5\u001b[0m     \u001b[0mdim\u001b[0m\u001b[0;34m=\u001b[0m\u001b[0mimg\u001b[0m\u001b[0;34m.\u001b[0m\u001b[0mshape\u001b[0m\u001b[0;34m\u001b[0m\u001b[0;34m\u001b[0m\u001b[0m\n\u001b[1;32m      6\u001b[0m \u001b[0;34m\u001b[0m\u001b[0m\n",
            "\u001b[0;31mKeyboardInterrupt\u001b[0m: "
          ]
        }
      ]
    },
    {
      "cell_type": "code",
      "source": [
        "img_path"
      ],
      "metadata": {
        "colab": {
          "base_uri": "https://localhost:8080/",
          "height": 35
        },
        "id": "w5Kp54E3ZMUI",
        "outputId": "5390e624-dddb-42ff-f113-a0045de29903"
      },
      "execution_count": null,
      "outputs": [
        {
          "output_type": "execute_result",
          "data": {
            "text/plain": [
              "'/content/drive/MyDrive/Colab Notebooks/Vision_computacional/deep_net/DAY_2_Dataset/2024-06-19 18-53-22.png'"
            ],
            "application/vnd.google.colaboratory.intrinsic+json": {
              "type": "string"
            }
          },
          "metadata": {},
          "execution_count": 60
        }
      ]
    },
    {
      "cell_type": "code",
      "source": [
        "X = np.array(imagenes)\n",
        "y = np.array(angulos)"
      ],
      "metadata": {
        "id": "Kbq38pQowaRo"
      },
      "execution_count": null,
      "outputs": []
    },
    {
      "cell_type": "code",
      "source": [
        "#Division de entrenamiento y prueba\n",
        "X_train, X_test, y_train, y_test = train_test_split(X, y, test_size = 0.3, random_state = 42)\n"
      ],
      "metadata": {
        "id": "pGn4mMWAw6eq"
      },
      "execution_count": null,
      "outputs": []
    },
    {
      "cell_type": "code",
      "source": [
        "model = Sequential([\n",
        "    Conv2D(32, (3, 3), activation='relu', input_shape=(64, 64, 3)),\n",
        "    MaxPooling2D((2, 2)),\n",
        "    Conv2D(64, (3, 3), activation='relu'),\n",
        "    MaxPooling2D((2, 2)),\n",
        "    Conv2D(128, (3, 3), activation='relu'),\n",
        "    MaxPooling2D((2, 2)),\n",
        "    Flatten(),\n",
        "    Dense(128, activation='relu'),\n",
        "    Dense(64, activation='relu'),\n",
        "    Dense(1)  # regresión del angulo predicho\n",
        "])\n",
        "\n",
        "# Compilación del modelo\n",
        "model.compile(optimizer='adam', loss='mean_squared_error', metrics=[\"accuracy\"])\n",
        "\n",
        "# Entrenamiento\n",
        "model.fit(X_train, y_train, epochs=50,  batch_size=32)\n",
        "\n",
        "# Evaluación del modelo\n",
        "test_loss = model.evaluate(X_test, y_test)\n"
      ],
      "metadata": {
        "colab": {
          "base_uri": "https://localhost:8080/"
        },
        "id": "sRL_8EdTyIsS",
        "outputId": "aaeb44bf-3bb0-42fc-8af3-076569553b99"
      },
      "execution_count": null,
      "outputs": [
        {
          "output_type": "stream",
          "name": "stdout",
          "text": [
            "Epoch 1/50\n",
            "30/30 [==============================] - 9s 260ms/step - loss: 0.0298 - accuracy: 0.1369\n",
            "Epoch 2/50\n",
            "30/30 [==============================] - 7s 222ms/step - loss: 0.0216 - accuracy: 0.1369\n",
            "Epoch 3/50\n",
            "30/30 [==============================] - 8s 281ms/step - loss: 0.0213 - accuracy: 0.1369\n",
            "Epoch 4/50\n",
            "30/30 [==============================] - 5s 176ms/step - loss: 0.0209 - accuracy: 0.1369\n",
            "Epoch 5/50\n",
            "30/30 [==============================] - 6s 217ms/step - loss: 0.0202 - accuracy: 0.1369\n",
            "Epoch 6/50\n",
            "30/30 [==============================] - 6s 209ms/step - loss: 0.0197 - accuracy: 0.1369\n",
            "Epoch 7/50\n",
            "30/30 [==============================] - 5s 173ms/step - loss: 0.0198 - accuracy: 0.1369\n",
            "Epoch 8/50\n",
            "30/30 [==============================] - 7s 250ms/step - loss: 0.0191 - accuracy: 0.1369\n",
            "Epoch 9/50\n",
            "30/30 [==============================] - 5s 173ms/step - loss: 0.0185 - accuracy: 0.1369\n",
            "Epoch 10/50\n",
            "30/30 [==============================] - 6s 205ms/step - loss: 0.0178 - accuracy: 0.1369\n",
            "Epoch 11/50\n",
            "30/30 [==============================] - 6s 213ms/step - loss: 0.0169 - accuracy: 0.1369\n",
            "Epoch 12/50\n",
            "30/30 [==============================] - 5s 175ms/step - loss: 0.0166 - accuracy: 0.1369\n",
            "Epoch 13/50\n",
            "30/30 [==============================] - 7s 239ms/step - loss: 0.0158 - accuracy: 0.1369\n",
            "Epoch 14/50\n",
            "30/30 [==============================] - 5s 172ms/step - loss: 0.0147 - accuracy: 0.1369\n",
            "Epoch 15/50\n",
            "30/30 [==============================] - 6s 201ms/step - loss: 0.0134 - accuracy: 0.1369\n",
            "Epoch 16/50\n",
            "30/30 [==============================] - 7s 230ms/step - loss: 0.0117 - accuracy: 0.1369\n",
            "Epoch 17/50\n",
            "30/30 [==============================] - 5s 170ms/step - loss: 0.0103 - accuracy: 0.1369\n",
            "Epoch 18/50\n",
            "30/30 [==============================] - 10s 345ms/step - loss: 0.0090 - accuracy: 0.1369\n",
            "Epoch 19/50\n",
            "30/30 [==============================] - 5s 171ms/step - loss: 0.0076 - accuracy: 0.1369\n",
            "Epoch 20/50\n",
            "30/30 [==============================] - 6s 195ms/step - loss: 0.0075 - accuracy: 0.1369\n",
            "Epoch 21/50\n",
            "30/30 [==============================] - 7s 217ms/step - loss: 0.0060 - accuracy: 0.1369\n",
            "Epoch 22/50\n",
            "30/30 [==============================] - 6s 214ms/step - loss: 0.0053 - accuracy: 0.1369\n",
            "Epoch 23/50\n",
            "30/30 [==============================] - 8s 277ms/step - loss: 0.0052 - accuracy: 0.1369\n",
            "Epoch 24/50\n",
            "30/30 [==============================] - 5s 174ms/step - loss: 0.0039 - accuracy: 0.1369\n",
            "Epoch 25/50\n",
            "30/30 [==============================] - 6s 208ms/step - loss: 0.0030 - accuracy: 0.1369\n",
            "Epoch 26/50\n",
            "30/30 [==============================] - 6s 210ms/step - loss: 0.0024 - accuracy: 0.1369\n",
            "Epoch 27/50\n",
            "30/30 [==============================] - 5s 177ms/step - loss: 0.0022 - accuracy: 0.1369\n",
            "Epoch 28/50\n",
            "30/30 [==============================] - 7s 247ms/step - loss: 0.0021 - accuracy: 0.1369\n",
            "Epoch 29/50\n",
            "30/30 [==============================] - 5s 177ms/step - loss: 0.0016 - accuracy: 0.1369\n",
            "Epoch 30/50\n",
            "30/30 [==============================] - 6s 214ms/step - loss: 0.0014 - accuracy: 0.1369\n",
            "Epoch 31/50\n",
            "30/30 [==============================] - 6s 207ms/step - loss: 0.0013 - accuracy: 0.1369\n",
            "Epoch 32/50\n",
            "30/30 [==============================] - 5s 174ms/step - loss: 8.6095e-04 - accuracy: 0.1369\n",
            "Epoch 33/50\n",
            "30/30 [==============================] - 7s 250ms/step - loss: 7.1861e-04 - accuracy: 0.1369\n",
            "Epoch 34/50\n",
            "30/30 [==============================] - 5s 176ms/step - loss: 6.8956e-04 - accuracy: 0.1369\n",
            "Epoch 35/50\n",
            "30/30 [==============================] - 6s 205ms/step - loss: 5.3766e-04 - accuracy: 0.1369\n",
            "Epoch 36/50\n",
            "30/30 [==============================] - 7s 216ms/step - loss: 4.5058e-04 - accuracy: 0.1369\n",
            "Epoch 37/50\n",
            "30/30 [==============================] - 5s 174ms/step - loss: 3.8658e-04 - accuracy: 0.1369\n",
            "Epoch 38/50\n",
            "30/30 [==============================] - 7s 247ms/step - loss: 3.3399e-04 - accuracy: 0.1369\n",
            "Epoch 39/50\n",
            "30/30 [==============================] - 5s 174ms/step - loss: 3.2312e-04 - accuracy: 0.1369\n",
            "Epoch 40/50\n",
            "30/30 [==============================] - 6s 200ms/step - loss: 2.9058e-04 - accuracy: 0.1369\n",
            "Epoch 41/50\n",
            "30/30 [==============================] - 7s 215ms/step - loss: 2.8002e-04 - accuracy: 0.1369\n",
            "Epoch 42/50\n",
            "30/30 [==============================] - 6s 191ms/step - loss: 4.4951e-04 - accuracy: 0.1369\n",
            "Epoch 43/50\n",
            "30/30 [==============================] - 9s 295ms/step - loss: 4.5120e-04 - accuracy: 0.1369\n",
            "Epoch 44/50\n",
            "30/30 [==============================] - 5s 173ms/step - loss: 5.2669e-04 - accuracy: 0.1369\n",
            "Epoch 45/50\n",
            "30/30 [==============================] - 6s 196ms/step - loss: 5.0001e-04 - accuracy: 0.1369\n",
            "Epoch 46/50\n",
            "30/30 [==============================] - 7s 224ms/step - loss: 4.3191e-04 - accuracy: 0.1369\n",
            "Epoch 47/50\n",
            "30/30 [==============================] - 5s 178ms/step - loss: 4.6208e-04 - accuracy: 0.1369\n",
            "Epoch 48/50\n",
            "30/30 [==============================] - 7s 251ms/step - loss: 5.0242e-04 - accuracy: 0.1369\n",
            "Epoch 49/50\n",
            "30/30 [==============================] - 5s 172ms/step - loss: 5.7066e-04 - accuracy: 0.1369\n",
            "Epoch 50/50\n",
            "30/30 [==============================] - 6s 194ms/step - loss: 5.6472e-04 - accuracy: 0.1369\n",
            "13/13 [==============================] - 1s 52ms/step - loss: 0.0252 - accuracy: 0.1262\n"
          ]
        }
      ]
    }
  ]
}