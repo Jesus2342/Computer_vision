{
 "cells": [
  {
   "cell_type": "code",
   "execution_count": 2,
   "id": "36fa1aa2",
   "metadata": {},
   "outputs": [
    {
     "name": "stdout",
     "output_type": "stream",
     "text": [
      "Collecting opencv-python\n",
      "  Downloading opencv_python-4.9.0.80-cp37-abi3-macosx_10_16_x86_64.whl (55.7 MB)\n",
      "\u001b[2K     \u001b[90m━━━━━━━━━━━━━━━━━━━━━━━━━━━━━━━━━━━━━━━━\u001b[0m \u001b[32m55.7/55.7 MB\u001b[0m \u001b[31m10.0 MB/s\u001b[0m eta \u001b[36m0:00:00\u001b[0m00:01\u001b[0m00:01\u001b[0m\n",
      "\u001b[?25hRequirement already satisfied: numpy>=1.21.2 in /Library/Frameworks/Python.framework/Versions/3.11/lib/python3.11/site-packages (from opencv-python) (1.26.4)\n",
      "Installing collected packages: opencv-python\n",
      "Successfully installed opencv-python-4.9.0.80\n",
      "\n",
      "\u001b[1m[\u001b[0m\u001b[34;49mnotice\u001b[0m\u001b[1;39;49m]\u001b[0m\u001b[39;49m A new release of pip is available: \u001b[0m\u001b[31;49m23.1.2\u001b[0m\u001b[39;49m -> \u001b[0m\u001b[32;49m24.0\u001b[0m\n",
      "\u001b[1m[\u001b[0m\u001b[34;49mnotice\u001b[0m\u001b[1;39;49m]\u001b[0m\u001b[39;49m To update, run: \u001b[0m\u001b[32;49mpip3.11 install --upgrade pip\u001b[0m\n",
      "Note: you may need to restart the kernel to use updated packages.\n"
     ]
    }
   ],
   "source": [
    "pip install opencv-python"
   ]
  },
  {
   "cell_type": "code",
   "execution_count": 2,
   "id": "5a16335f-7a0e-4a88-bc3b-12ef55df5d91",
   "metadata": {},
   "outputs": [],
   "source": [
    "import cv2\n",
    "import numpy as np"
   ]
  },
  {
   "cell_type": "code",
   "execution_count": 3,
   "id": "90de5acc-089c-422f-b915-776caaddbe9b",
   "metadata": {},
   "outputs": [],
   "source": [
    "imagen= cv2.imread(\"lines.jpeg\")"
   ]
  },
  {
   "cell_type": "code",
   "execution_count": 11,
   "id": "9403e334-3050-471f-87ad-65e13f1b6132",
   "metadata": {},
   "outputs": [
    {
     "name": "stdout",
     "output_type": "stream",
     "text": [
      "32\n"
     ]
    }
   ],
   "source": [
    "#Vemos la imagen y le pones el titulo de titulo Lineas al prompt \n",
    "cv2.imshow(\"Lineas\", imagen)\n",
    "print(cv2.waitKey(0))\n",
    "cv2.destroyAllWindows()\n",
    "for i in range(2):\n",
    "    cv2.waitKey(1)"
   ]
  },
  {
   "cell_type": "code",
   "execution_count": 7,
   "id": "9440d8e2-2956-47e5-89f9-c5f768481737",
   "metadata": {},
   "outputs": [],
   "source": [
    "#Obtener los edges \n",
    "escala_gris= cv2.cvtColor(imagen, cv2.COLOR_BGR2GRAY)\n",
    "bordes =  cv2.Canny(escala_gris,75,150)"
   ]
  },
  {
   "cell_type": "code",
   "execution_count": 8,
   "id": "5f7b38a7-f502-4879-8d2b-f3500b266bc7",
   "metadata": {},
   "outputs": [
    {
     "name": "stdout",
     "output_type": "stream",
     "text": [
      "32\n"
     ]
    }
   ],
   "source": [
    "#Vemos la imagen y le pones el titulo de titulo Lineas_Detectadas al prompt \n",
    "cv2.imshow(\"Bordes\", bordes)\n",
    "print(cv2.waitKey(0))\n",
    "cv2.destroyAllWindows()\n",
    "for i in range(2):\n",
    "    cv2.waitKey(1)"
   ]
  },
  {
   "cell_type": "code",
   "execution_count": 17,
   "id": "14aaa8a1-fb24-471c-8c5e-6164eaada947",
   "metadata": {},
   "outputs": [
    {
     "name": "stdout",
     "output_type": "stream",
     "text": [
      "[[[115 408 115  18]]\n",
      "\n",
      " [[258 407 258  15]]\n",
      "\n",
      " [[ 23 414  23  18]]]\n"
     ]
    }
   ],
   "source": [
    "#Houghlines \n",
    "\n",
    "arreglo_lineas_Hough= cv2.HoughLinesP(bordes,1, np.pi/180, 30)\n",
    "#CV2.Houghlines puede aceptar maxLineGap para zonas donde no hay lineas. Valores de 100, 200, 250 etc\n",
    "#Hacer mas pequeño el threshold a un valor mas pequeño puede ayudar a una deteccion mejor de las lineas. \n",
    "\n",
    "\n",
    "print(arreglo_lineas_Hough[0:3])   #vemos como que regresa un arreglo y mostramos solo los primeros 3 valores"
   ]
  },
  {
   "cell_type": "code",
   "execution_count": 18,
   "id": "207990d8-e856-4387-ae39-4fc0870fd63f",
   "metadata": {},
   "outputs": [],
   "source": [
    "for i in arreglo_lineas_Hough:\n",
    "    x1,y1,x2,y2 = i[0] #Tomamos cero porque vamos a tomar el array dentro del array \n",
    "    cv2.line(imagen, (x1,y1), (x2, y2), (0,0,255), 3) #Tomamos la imagen original y tomamos el primer punto x1&y1 y el segundo punto x2y2"
   ]
  },
  {
   "cell_type": "code",
   "execution_count": 19,
   "id": "6a953822-e421-423a-b686-7b8e673f331a",
   "metadata": {},
   "outputs": [
    {
     "name": "stdout",
     "output_type": "stream",
     "text": [
      "32\n"
     ]
    },
    {
     "ename": "",
     "evalue": "",
     "output_type": "error",
     "traceback": [
      "\u001b[1;31mThe Kernel crashed while executing code in the the current cell or a previous cell. Please review the code in the cell(s) to identify a possible cause of the failure. Click <a href='https://aka.ms/vscodeJupyterKernelCrash'>here</a> for more info. View Jupyter <a href='command:jupyter.viewOutput'>log</a> for further details."
     ]
    }
   ],
   "source": [
    " #Vemos la imagen y le pones el titulo de titulo Lineas al prompt \n",
    "cv2.imshow(\"Lineas\", imagen)\n",
    "print(cv2.waitKey(0))\n",
    "cv2.destroyAllWindows()\n",
    "for i in range(2):\n",
    "    cv2.waitKey(1)"
   ]
  },
  {
   "cell_type": "code",
   "execution_count": null,
   "id": "946eadb5",
   "metadata": {},
   "outputs": [],
   "source": []
  },
  {
   "cell_type": "code",
   "execution_count": null,
   "id": "e364be14",
   "metadata": {},
   "outputs": [],
   "source": []
  }
 ],
 "metadata": {
  "kernelspec": {
   "display_name": "Python 3 (ipykernel)",
   "language": "python",
   "name": "python3"
  },
  "language_info": {
   "codemirror_mode": {
    "name": "ipython",
    "version": 3
   },
   "file_extension": ".py",
   "mimetype": "text/x-python",
   "name": "python",
   "nbconvert_exporter": "python",
   "pygments_lexer": "ipython3",
   "version": "3.11.4"
  }
 },
 "nbformat": 4,
 "nbformat_minor": 5
}
