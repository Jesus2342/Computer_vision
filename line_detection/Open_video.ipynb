{
 "cells": [
  {
   "cell_type": "code",
   "execution_count": 3,
   "id": "c6bd702a-55a7-4f29-93ff-b91340f6b90f",
   "metadata": {},
   "outputs": [
    {
     "name": "stdout",
     "output_type": "stream",
     "text": [
      "Collecting opencv-python\n",
      "  Downloading opencv_python-4.9.0.80-cp37-abi3-macosx_10_16_x86_64.whl.metadata (20 kB)\n",
      "Requirement already satisfied: numpy>=1.21.2 in /opt/anaconda3/lib/python3.11/site-packages (from opencv-python) (1.26.4)\n",
      "Downloading opencv_python-4.9.0.80-cp37-abi3-macosx_10_16_x86_64.whl (55.7 MB)\n",
      "\u001b[2K   \u001b[90m━━━━━━━━━━━━━━━━━━━━━━━━━━━━━━━━━━━━━━━━\u001b[0m \u001b[32m55.7/55.7 MB\u001b[0m \u001b[31m17.2 MB/s\u001b[0m eta \u001b[36m0:00:00\u001b[0m00:01\u001b[0m00:01\u001b[0m\n",
      "\u001b[?25hInstalling collected packages: opencv-python\n",
      "Successfully installed opencv-python-4.9.0.80\n",
      "Note: you may need to restart the kernel to use updated packages.\n"
     ]
    }
   ],
   "source": [
    "pip install opencv-python"
   ]
  },
  {
   "cell_type": "code",
   "execution_count": 1,
   "id": "b37ff2f0-719d-4606-89b3-eb9088bc7a2d",
   "metadata": {},
   "outputs": [],
   "source": [
    "import matplotlib. image as mpimg\n",
    "import matplotlib.pyplot as plt\n",
    "import numpy as np\n",
    "import cv2"
   ]
  },
  {
   "cell_type": "code",
   "execution_count": 3,
   "id": "9f260fcc-34f7-46c6-95ba-bef1f8fd8d78",
   "metadata": {},
   "outputs": [],
   "source": [
    "#Se accedde al video \n",
    "cap = cv2.VideoCapture(\"highway_vid.mp4\")\n",
    "\n",
    "while (cap.isOpened()):\n",
    "    #ret es un valor Boolenao que indica si el frame se leyo correctamente \n",
    "    #frame es el frame del archivo\n",
    "\n",
    "    ret, frame = cap.read()\n",
    "    cv2.imshow(\"Test video\", frame)\n",
    "    #se cierra presionando la ventana de ENTER \n",
    "    if cv2.waitKey(1) ==13:\n",
    "        break\n",
    "\n",
    "#Se libera el archivo y se cierra la ventana \n",
    "cap.release()\n",
    "cv2.destroyAllWindows()\n",
    "        "
   ]
  },
  {
   "cell_type": "code",
   "execution_count": null,
   "id": "fcc0f34b-3d94-4d0a-893a-39dc03b5f5a7",
   "metadata": {},
   "outputs": [],
   "source": []
  }
 ],
 "metadata": {
  "kernelspec": {
   "display_name": "Python 3 (ipykernel)",
   "language": "python",
   "name": "python3"
  },
  "language_info": {
   "codemirror_mode": {
    "name": "ipython",
    "version": 3
   },
   "file_extension": ".py",
   "mimetype": "text/x-python",
   "name": "python",
   "nbconvert_exporter": "python",
   "pygments_lexer": "ipython3",
   "version": "3.11.7"
  }
 },
 "nbformat": 4,
 "nbformat_minor": 5
}
