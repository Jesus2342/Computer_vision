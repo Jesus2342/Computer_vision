{
 "cells": [
  {
   "cell_type": "markdown",
   "metadata": {},
   "source": [
    "<img src=\"logo_MNA.png\"></a>"
   ]
  },
  {
   "cell_type": "markdown",
   "metadata": {},
   "source": [
    "<a href=\"https://maestriasydiplomados.tec.mx/posgrados/maestria-en-inteligencia-artificial-aplicada\"><img src=\"logo_MR4010.png\"></a>\n",
    "<h1> <div align=\"center\"> Dr. David Antonio-Torres</div> </h1>"
   ]
  },
  {
   "cell_type": "markdown",
   "metadata": {},
   "source": [
    "# DETECCION DE PEATONES CON HOG Y SVM\n"
   ]
  },
  {
   "cell_type": "markdown",
   "metadata": {},
   "source": [
    "En este trabajo, se desarrollará un modelo basado en máquinas de vectores de soporte (SVM) que permitirá identificar la presencia de peatones en imágenes. Este enfoque se ha seleccionado por su eficacia en la clasificación de datos y su capacidad para manejar grandes volúmenes de información con alta precisión.\n",
    "\n",
    "Para llevar a cabo este proyecto, se utilizará el conjunto de datos proporcionado por el Daimler Pedestrian Benchmark Dataset, disponible en este enlace: http://www.gavrila.net/Datasets/Daimler_Pedestrian_Benchmark_D/Daimler_Mono_Ped__Class__Bench/daimler_mono_ped__class__bench.html. \n",
    "\n",
    "Este dataset incluye un total de 4800 muestras de peatones y 5000 muestras de no peatones por conjunto, todas recortadas de imágenes de vídeo y escaladas a un tamaño uniforme de 18x36 píxeles en escala de grises.\n",
    "\n",
    "A continuación, se presenta una tabla que detalla los conjuntos de datos utilizados en esta investigación.\n",
    "\n",
    "| Dataset Name | Purpose  | Pedestrian Labels | Pedestrian Examples | Non-ped. Examples | Storage Size |\n",
    "|--------------|----------|-------------------|---------------------|-------------------|--------------|\n",
    "| \"1\"          | Training | 800               | 4800                | 5000              | 39 MB        |\n",
    "| \"2\"          | Training | 800               | 4800                | 5000              | 39 MB        |\n",
    "| \"3\"          | Training | 800               | 4800                | 5000              | 39 MB        |\n",
    "| \"T1\"         | Test     | 800               | 4800                | 5000              | 39 MB        |\n",
    "| \"T2\"         | Test     | 800               | 4800                | 5000              | 39 MB        |\n",
    "\n",
    "Debido al costo computacional se emplearan 10000 imágenes por clase.\n"
   ]
  },
  {
   "cell_type": "markdown",
   "metadata": {},
   "source": [
    "# Se cargan las bibliotecas necesarias"
   ]
  },
  {
   "cell_type": "code",
   "execution_count": 1,
   "metadata": {},
   "outputs": [],
   "source": [
    "import matplotlib.image as mpimg\n",
    "import matplotlib.pyplot as plt\n",
    "import numpy as np\n",
    "import seaborn as sns\n",
    "import cv2\n",
    "from skimage.feature import hog\n",
    "import os"
   ]
  },
  {
   "cell_type": "markdown",
   "metadata": {},
   "source": [
    "# Se importan los dos datasets \n",
    "### https://docs.python.org/3/library/glob.html"
   ]
  },
  {
   "cell_type": "code",
   "execution_count": 2,
   "metadata": {},
   "outputs": [],
   "source": [
    "import glob\n",
    "pedestrian = glob.glob(\"DC-ped-dataset_base/**/ped_examples/*.pgm\")\n",
    "no_pedestrian = glob.glob(\"DC-ped-dataset_base/**/non-ped_examples/*.pgm\")  "
   ]
  },
  {
   "cell_type": "code",
   "execution_count": 3,
   "metadata": {},
   "outputs": [
    {
     "data": {
      "text/plain": [
       "24000"
      ]
     },
     "execution_count": 3,
     "metadata": {},
     "output_type": "execute_result"
    }
   ],
   "source": [
    "#Desplegamos la longitud de la variable pedestrian, que contiene 24,0000 imagenes.\n",
    "len(pedestrian)"
   ]
  },
  {
   "cell_type": "code",
   "execution_count": 4,
   "metadata": {},
   "outputs": [
    {
     "data": {
      "text/plain": [
       "25000"
      ]
     },
     "execution_count": 4,
     "metadata": {},
     "output_type": "execute_result"
    }
   ],
   "source": [
    "#Desplegamos la longitud de la variable no_pedestrian, que contiene 25,0000 imagenes.\n",
    "len(no_pedestrian)"
   ]
  },
  {
   "cell_type": "markdown",
   "metadata": {},
   "source": [
    "# Se muestra una imagen con un peaton"
   ]
  },
  {
   "cell_type": "code",
   "execution_count": 5,
   "metadata": {},
   "outputs": [
    {
     "data": {
      "text/plain": [
       "<matplotlib.image.AxesImage at 0x1309b9650>"
      ]
     },
     "execution_count": 5,
     "metadata": {},
     "output_type": "execute_result"
    },
    {
     "data": {
      "image/png": "[encoded data removed]",
      "text/plain": [
       "<Figure size 640x480 with 1 Axes>"
      ]
     },
     "metadata": {},
     "output_type": "display_data"
    }
   ],
   "source": [
    "# Imprimimos una de las imágenes.\n",
    "# Como se aprecia, la imagen ya se encuentra por defecto en gris. Por lo que no será necesario\n",
    "# una conversión, eso nos ayudará a reducir los tiempos de procesamiento.\n",
    "\n",
    "img_color = cv2.imread(pedestrian[10])\n",
    "plt.imshow(img_color)"
   ]
  },
  {
   "cell_type": "markdown",
   "metadata": {},
   "source": [
    "# Para fines de demostración se calcula el HOG de la imagen"
   ]
  },
  {
   "cell_type": "code",
   "execution_count": 6,
   "metadata": {},
   "outputs": [
    {
     "data": {
      "text/plain": [
       "<matplotlib.image.AxesImage at 0x130a659d0>"
      ]
     },
     "execution_count": 6,
     "metadata": {},
     "output_type": "execute_result"
    },
    {
     "data": {
      "image/png": "[encoded data removed]",
      "text/plain": [
       "<Figure size 640x480 with 1 Axes>"
      ]
     },
     "metadata": {},
     "output_type": "display_data"
    }
   ],
   "source": [
    "# Aseguramos que todas las imágenes se encuentren en formato de grises, a partir de la instrucción BGR2GRAY.\n",
    "# Desplegamos la imagen.\n",
    "\n",
    "img_gray = cv2.cvtColor(img_color,cv2.COLOR_BGR2GRAY)\n",
    "plt.imshow(img_gray,cmap=\"gray\")"
   ]
  },
  {
   "cell_type": "code",
   "execution_count": 7,
   "metadata": {},
   "outputs": [],
   "source": [
    "# Calculamos el descriptor de Histogramas de Gradientes Orientados de la imagen.\n",
    "# La imagen que ingresa está en escala de grises.\n",
    "# Orientations: Nuestras imágenes son pequeñas, por lo que la detección de pequeños y finos detalles es importante.\n",
    "# De manera típica, el número de orientaciones está entre 9 y 11; optaremos por 11.\n",
    "# Pixels per cell: El tamaño de la celda escogido es de 6x6 píxeles, la imagen se divide en celdas. De ellas se obtiene el histograma de gradientes local.\n",
    "# Cells per block: Se especifica el número de celdas por bloque; para este caso, cada bloque tiene dos celdas.\n",
    "# transform_sqrt: Se evita la transformación de raíz cuadrada a la imagen, antes del cálculo de gradientes.\n",
    "# visualize: Regresa una imagen del histograma de gradientes orientados, además de sus características (features).\n",
    "# feature_vector: Nos regresa una matriz unidimensional.\n",
    "\n",
    "features,hog_img = hog(img_gray,\n",
    "                       orientations = 11,\n",
    "                       pixels_per_cell = (6,6),\n",
    "                       cells_per_block = (2,2),\n",
    "                       transform_sqrt = False,\n",
    "                       visualize = True,\n",
    "                       feature_vector = True)"
   ]
  },
  {
   "cell_type": "code",
   "execution_count": 8,
   "metadata": {},
   "outputs": [
    {
     "data": {
      "text/plain": [
       "(440,)"
      ]
     },
     "execution_count": 8,
     "metadata": {},
     "output_type": "execute_result"
    }
   ],
   "source": [
    "#Obtenemos la dimension del vector de características HOG de la imagen\n",
    "features.shape"
   ]
  },
  {
   "cell_type": "code",
   "execution_count": 9,
   "metadata": {},
   "outputs": [
    {
     "data": {
      "text/plain": [
       "(36, 18)"
      ]
     },
     "execution_count": 9,
     "metadata": {},
     "output_type": "execute_result"
    }
   ],
   "source": [
    "# Obtenemos la dimensión de la imagen de los histogramas de gradientes orientados.\n",
    "hog_img.shape"
   ]
  },
  {
   "cell_type": "code",
   "execution_count": 10,
   "metadata": {},
   "outputs": [
    {
     "data": {
      "text/plain": [
       "<matplotlib.image.AxesImage at 0x130ad59d0>"
      ]
     },
     "execution_count": 10,
     "metadata": {},
     "output_type": "execute_result"
    },
    {
     "data": {
      "image/png": "[encoded data removed]",
      "text/plain": [
       "<Figure size 640x480 with 1 Axes>"
      ]
     },
     "metadata": {},
     "output_type": "display_data"
    }
   ],
   "source": [
    "# Se imprime la variable que contiene la imagen de los HOGs.\n",
    "plt.imshow(hog_img,cmap = 'gray')"
   ]
  },
  {
   "cell_type": "markdown",
   "metadata": {},
   "source": [
    "# Funciones"
   ]
  },
  {
   "cell_type": "code",
   "execution_count": 11,
   "metadata": {},
   "outputs": [],
   "source": [
    "def process_image(dir, size=(18, 36), rgb2gray=True):\n",
    "    \"\"\"\n",
    "    Importa una imagen, redimensionándola y convirtiéndola a escala de grises si es necesario.\n",
    "\n",
    "    Args:\n",
    "    - dir: Ruta de la imagen a procesar.\n",
    "    - size: Tupla que especifica el nuevo tamaño deseado de la imagen. Por defecto, (36, 18).\n",
    "    - rgb2gray: Booleano que indica si se debe convertir la imagen a escala de grises. Por defecto, True.\n",
    "\n",
    "    Returns:\n",
    "    - La imagen procesada.\n",
    "    \"\"\"\n",
    "    image = cv2.imread(dir)\n",
    "    # Obtener las dimensiones de la imagen\n",
    "    y, x, z = image.shape\n",
    "\n",
    "    # Convertir a escala de grises si rgb2gray es verdadero\n",
    "    if rgb2gray:\n",
    "        image = cv2.cvtColor(image, cv2.COLOR_BGR2GRAY)\n",
    "\n",
    "    # Redimensionar la imagen si el tamaño no coincide con el especificado\n",
    "    if (x, y) != size:\n",
    "        image = cv2.resize(image, size)\n",
    "\n",
    "    return image"
   ]
  },
  {
   "cell_type": "code",
   "execution_count": 12,
   "metadata": {},
   "outputs": [],
   "source": [
    "def calculate_hog(image, block_size=(6, 6), cell_size=(2, 2), nbins=9):\n",
    "    \"\"\"\n",
    "    Calcula el descriptor HOG de una imagen.\n",
    "\n",
    "    Parámetros:\n",
    "        image (array): La imagen de entrada.\n",
    "        block_size (tuple): Tamaño del bloque en el que se divide la ventana deslizante. Por defecto, (6, 6).\n",
    "        cell_size (tuple): Tamaño de la celda dentro de cada bloque. Por defecto, (2, 2).\n",
    "        nbins (int): Número de bins en el histograma de gradientes orientados. Por defecto, 9.\n",
    "\n",
    "    Retorna:\n",
    "        hog_features (array): El descriptor HOG de la imagen.\n",
    "    \"\"\"\n",
    "    # Calcula el descriptor HOG\n",
    "    hog_features = hog(image, orientations=nbins, pixels_per_cell=block_size,\n",
    "                       cells_per_block=cell_size, block_norm='L2-Hys', visualize=False)\n",
    "    \n",
    "    return hog_features"
   ]
  },
  {
   "cell_type": "markdown",
   "metadata": {},
   "source": [
    "# Se extraen las features del HOG para ambos tipos de datos"
   ]
  },
  {
   "cell_type": "markdown",
   "metadata": {},
   "source": [
    "En la siguiente parte se importaran las imagenes, a las cuales se les aplicaran un re-escalado de imagen y conversión a escala de grises mediante la función 'process_image()', así como la reducción de ambas clases a 10000 ejemplos por clase debido a que emplear 25000 imagenes por clase requiere mayor costo computacional, debido a esto el valor de max_samples se establece en 10000."
   ]
  },
  {
   "cell_type": "code",
   "execution_count": 13,
   "metadata": {},
   "outputs": [],
   "source": [
    "max_samples = 10000      # maximo de imágenes a emplear por clase"
   ]
  },
  {
   "cell_type": "code",
   "execution_count": 14,
   "metadata": {},
   "outputs": [],
   "source": [
    "# Procesamiento de las imágenes de peatones\n",
    "pedestrian_img = [process_image(img, rgb2gray=True) for img in pedestrian[:max_samples]]\n",
    "\n",
    "# Calcula el descriptor HOG para las imágenes de la clase positiva (peatones)\n",
    "pedestrian_hog_accum = [calculate_hog(image) for image in pedestrian_img]"
   ]
  },
  {
   "cell_type": "code",
   "execution_count": 15,
   "metadata": {},
   "outputs": [],
   "source": [
    "# Comenzamos el apilamiento vertical de la lista pedestrian_hog_acum y se asigna a X_pedestrian.\n",
    "X_pedestrian = np.vstack(pedestrian_hog_accum).astype(np.float64)\n",
    "# Creamos una variable llamada y_pedestrian que indicará cuando se detectaron peatones.\n",
    "# Esta tendrá una longitud igual a la longitud de x_pedestrian.\n",
    "y_pedestrian = np.ones(len(X_pedestrian))"
   ]
  },
  {
   "cell_type": "code",
   "execution_count": 16,
   "metadata": {},
   "outputs": [
    {
     "data": {
      "text/plain": [
       "(10000, 360)"
      ]
     },
     "execution_count": 16,
     "metadata": {},
     "output_type": "execute_result"
    }
   ],
   "source": [
    "#Se obtienen las dimensiones de X_pedestrian.\n",
    "X_pedestrian.shape"
   ]
  },
  {
   "cell_type": "code",
   "execution_count": 17,
   "metadata": {},
   "outputs": [
    {
     "data": {
      "text/plain": [
       "(10000,)"
      ]
     },
     "execution_count": 17,
     "metadata": {},
     "output_type": "execute_result"
    }
   ],
   "source": [
    "#Se obtienen las dimensiones de y_pedestrian.\n",
    "y_pedestrian.shape"
   ]
  },
  {
   "cell_type": "code",
   "execution_count": 18,
   "metadata": {},
   "outputs": [],
   "source": [
    "# Procesamiento de las imágenes no peatonales.\n",
    "nopedestrian_img = [process_image(img, rgb2gray=True) for img in no_pedestrian[:max_samples]]\n",
    "\n",
    "# Calcula el descriptor HOG para las imágenes de la clase negativa (sin peatones).\n",
    "nopedestrian_hog_accum = [calculate_hog(image) for image in nopedestrian_img]"
   ]
  },
  {
   "cell_type": "code",
   "execution_count": 19,
   "metadata": {},
   "outputs": [],
   "source": [
    "# Realizamos nuevamente el apilamiento vertical pero ahora sobre la variable no_pedestrian_hog_acum.\n",
    "# Creamos una variable y_no_pedestrian que será de la misma longitud que X_no_pedestrian pero llena de ceros, indicando que no hubo peatón.\n",
    "X_nopedestrian = np.vstack(nopedestrian_hog_accum).astype(np.float64)\n",
    "y_nopedestrian = np.zeros(len(X_nopedestrian))"
   ]
  },
  {
   "cell_type": "code",
   "execution_count": 20,
   "metadata": {},
   "outputs": [
    {
     "data": {
      "text/plain": [
       "(10000, 360)"
      ]
     },
     "execution_count": 20,
     "metadata": {},
     "output_type": "execute_result"
    }
   ],
   "source": [
    "#Se imprimen las dimensiones de X_nopedestrian.\n",
    "X_nopedestrian.shape"
   ]
  },
  {
   "cell_type": "code",
   "execution_count": 21,
   "metadata": {},
   "outputs": [
    {
     "data": {
      "text/plain": [
       "(10000,)"
      ]
     },
     "execution_count": 21,
     "metadata": {},
     "output_type": "execute_result"
    }
   ],
   "source": [
    "#Se imprimen las dimensiones de y_nopedestrian.\n",
    "y_nopedestrian.shape"
   ]
  },
  {
   "cell_type": "markdown",
   "metadata": {},
   "source": [
    "# Se combinan ambos tipos de datos para alimentar el SVM"
   ]
  },
  {
   "cell_type": "code",
   "execution_count": 22,
   "metadata": {},
   "outputs": [
    {
     "data": {
      "text/plain": [
       "(20000, 360)"
      ]
     },
     "execution_count": 22,
     "metadata": {},
     "output_type": "execute_result"
    }
   ],
   "source": [
    "# Realizamos el apilamiento vertical de nuestras dos variables independientes, que contienen los descriptores de ambas clasificaciones;\n",
    "# cuando hay peatones y cuando no hay peatones.\n",
    "# Imprimimos la dimensión de nuestra X.\n",
    "X = np.vstack((X_pedestrian,X_nopedestrian))\n",
    "X.shape"
   ]
  },
  {
   "cell_type": "code",
   "execution_count": 23,
   "metadata": {},
   "outputs": [
    {
     "data": {
      "text/plain": [
       "(20000,)"
      ]
     },
     "execution_count": 23,
     "metadata": {},
     "output_type": "execute_result"
    }
   ],
   "source": [
    "# Se hace el apilamiento de las salidas cuando se detectaron peatones y cuando no se detectaron peatones.\n",
    "y = np.hstack((y_pedestrian,y_nopedestrian))\n",
    "y.shape"
   ]
  },
  {
   "cell_type": "markdown",
   "metadata": {},
   "source": [
    "# Se generan los datos de entrenamiento y de prueba"
   ]
  },
  {
   "cell_type": "markdown",
   "metadata": {},
   "source": [
    "En esta seccion se divide el conjunto de entrenamiento y pruebas en un 70%-30%"
   ]
  },
  {
   "cell_type": "code",
   "execution_count": 24,
   "metadata": {},
   "outputs": [],
   "source": [
    "from sklearn.model_selection import train_test_split\n",
    "\n",
    "X_train, X_test, y_train, y_test = train_test_split(X, y, test_size = 0.2, random_state = 42)"
   ]
  },
  {
   "cell_type": "markdown",
   "metadata": {},
   "source": [
    "Mostramos las dimesiones del conjunto de entrenamiento."
   ]
  },
  {
   "cell_type": "code",
   "execution_count": 25,
   "metadata": {},
   "outputs": [
    {
     "data": {
      "text/plain": [
       "(16000, 360)"
      ]
     },
     "execution_count": 25,
     "metadata": {},
     "output_type": "execute_result"
    }
   ],
   "source": [
    "X_train.shape"
   ]
  },
  {
   "cell_type": "markdown",
   "metadata": {},
   "source": [
    "Mostramos las dimesiones del conjunto de prueba."
   ]
  },
  {
   "cell_type": "code",
   "execution_count": 26,
   "metadata": {},
   "outputs": [
    {
     "data": {
      "text/plain": [
       "(4000, 360)"
      ]
     },
     "execution_count": 26,
     "metadata": {},
     "output_type": "execute_result"
    }
   ],
   "source": [
    "X_test.shape"
   ]
  },
  {
   "cell_type": "markdown",
   "metadata": {},
   "source": [
    "A continuación, usando Sklearn, se usará el modelo SVM para 2 modelos uno sin ajuste de hiperparámetros y otro con ajuste de hiperparámetros empleando gridsearch para obtener el mejor modelo posible."
   ]
  },
  {
   "cell_type": "markdown",
   "metadata": {},
   "source": [
    "# Se importa el Clasificador y se entrena"
   ]
  },
  {
   "cell_type": "markdown",
   "metadata": {},
   "source": [
    "# Red neuronal"
   ]
  },
  {
   "cell_type": "code",
   "execution_count": 27,
   "metadata": {},
   "outputs": [
    {
     "name": "stderr",
     "output_type": "stream",
     "text": [
      "2024-05-28 18:49:29.857614: I tensorflow/core/platform/cpu_feature_guard.cc:210] This TensorFlow binary is optimized to use available CPU instructions in performance-critical operations.\n",
      "To enable the following instructions: AVX2 FMA, in other operations, rebuild TensorFlow with the appropriate compiler flags.\n"
     ]
    }
   ],
   "source": [
    "import numpy as np\n",
    "import tensorflow as tf\n",
    "from tensorflow import keras\n",
    "from tensorflow.keras.models import Sequential\n",
    "from tensorflow.keras.layers import Dense\n",
    "from tensorflow.keras.optimizers import Adam\n",
    "import matplotlib.pyplot as plt\n"
   ]
  },
  {
   "cell_type": "code",
   "execution_count": 56,
   "metadata": {},
   "outputs": [],
   "source": [
    "from sklearn.preprocessing import StandardScaler\n",
    "# Estandarizar las características\n",
    "scaler = StandardScaler()\n",
    "X_train = scaler.fit_transform(X_train)\n",
    "X_test = scaler.transform(X_test)"
   ]
  },
  {
   "cell_type": "code",
   "execution_count": 57,
   "metadata": {},
   "outputs": [
    {
     "name": "stderr",
     "output_type": "stream",
     "text": [
      "/opt/anaconda3/lib/python3.11/site-packages/keras/src/layers/core/dense.py:87: UserWarning: Do not pass an `input_shape`/`input_dim` argument to a layer. When using Sequential models, prefer using an `Input(shape)` object as the first layer in the model instead.\n",
      "  super().__init__(activity_regularizer=activity_regularizer, **kwargs)\n"
     ]
    }
   ],
   "source": [
    "model = Sequential()\n",
    "model.add(Dense(70, input_dim=X_train.shape[1], activation='relu'))  # Capa oculta con 16 neuronas\n",
    "model.add(Dense(50, activation='relu'))  # Otra capa oculta con 8 neuronas\n",
    "model.add(Dense(40, activation='relu'))  # Otra capa oculta con 8 neuronas\n",
    "model.add(Dense(30, activation='relu'))  # Otra capa oculta con 8 neuronas\n",
    "model.add(Dense(30, activation='relu'))  # Otra capa oculta con 8 neuronas\n",
    "model.add(Dense(1, activation='sigmoid'))  # Capa de salida con activación sigmoide para clasificación binaria\n",
    "model.compile(loss='binary_crossentropy', optimizer=Adam(learning_rate=0.01), metrics=['accuracy'])   "
   ]
  },
  {
   "cell_type": "code",
   "execution_count": 58,
   "metadata": {},
   "outputs": [
    {
     "name": "stdout",
     "output_type": "stream",
     "text": [
      "Epoch 1/80\n",
      "20/20 - 3s - 175ms/step - accuracy: 0.8283 - loss: 0.3474\n",
      "Epoch 2/80\n",
      "20/20 - 0s - 13ms/step - accuracy: 0.9452 - loss: 0.1415\n",
      "Epoch 3/80\n",
      "20/20 - 0s - 10ms/step - accuracy: 0.9666 - loss: 0.0934\n",
      "Epoch 4/80\n",
      "20/20 - 0s - 11ms/step - accuracy: 0.9779 - loss: 0.0661\n",
      "Epoch 5/80\n",
      "20/20 - 0s - 11ms/step - accuracy: 0.9835 - loss: 0.0466\n",
      "Epoch 6/80\n",
      "20/20 - 0s - 11ms/step - accuracy: 0.9827 - loss: 0.0463\n",
      "Epoch 7/80\n",
      "20/20 - 0s - 13ms/step - accuracy: 0.9870 - loss: 0.0378\n",
      "Epoch 8/80\n",
      "20/20 - 0s - 15ms/step - accuracy: 0.9899 - loss: 0.0277\n",
      "Epoch 9/80\n",
      "20/20 - 0s - 19ms/step - accuracy: 0.9937 - loss: 0.0201\n",
      "Epoch 10/80\n",
      "20/20 - 0s - 9ms/step - accuracy: 0.9949 - loss: 0.0159\n",
      "Epoch 11/80\n",
      "20/20 - 0s - 8ms/step - accuracy: 0.9932 - loss: 0.0205\n",
      "Epoch 12/80\n",
      "20/20 - 0s - 8ms/step - accuracy: 0.9935 - loss: 0.0186\n",
      "Epoch 13/80\n",
      "20/20 - 0s - 11ms/step - accuracy: 0.9933 - loss: 0.0179\n",
      "Epoch 14/80\n",
      "20/20 - 0s - 10ms/step - accuracy: 0.9971 - loss: 0.0087\n",
      "Epoch 15/80\n",
      "20/20 - 0s - 13ms/step - accuracy: 0.9982 - loss: 0.0054\n",
      "Epoch 16/80\n",
      "20/20 - 0s - 10ms/step - accuracy: 0.9974 - loss: 0.0084\n",
      "Epoch 17/80\n",
      "20/20 - 0s - 10ms/step - accuracy: 0.9961 - loss: 0.0109\n",
      "Epoch 18/80\n",
      "20/20 - 0s - 12ms/step - accuracy: 0.9969 - loss: 0.0094\n",
      "Epoch 19/80\n",
      "20/20 - 0s - 11ms/step - accuracy: 0.9961 - loss: 0.0112\n",
      "Epoch 20/80\n",
      "20/20 - 0s - 8ms/step - accuracy: 0.9959 - loss: 0.0122\n",
      "Epoch 21/80\n",
      "20/20 - 0s - 9ms/step - accuracy: 0.9971 - loss: 0.0086\n",
      "Epoch 22/80\n",
      "20/20 - 0s - 13ms/step - accuracy: 0.9980 - loss: 0.0058\n",
      "Epoch 23/80\n",
      "20/20 - 0s - 9ms/step - accuracy: 0.9973 - loss: 0.0076\n",
      "Epoch 24/80\n",
      "20/20 - 0s - 14ms/step - accuracy: 0.9951 - loss: 0.0144\n",
      "Epoch 25/80\n",
      "20/20 - 1s - 28ms/step - accuracy: 0.9971 - loss: 0.0089\n",
      "Epoch 26/80\n",
      "20/20 - 0s - 12ms/step - accuracy: 0.9981 - loss: 0.0051\n",
      "Epoch 27/80\n",
      "20/20 - 0s - 13ms/step - accuracy: 0.9989 - loss: 0.0034\n",
      "Epoch 28/80\n",
      "20/20 - 0s - 15ms/step - accuracy: 0.9992 - loss: 0.0025\n",
      "Epoch 29/80\n",
      "20/20 - 0s - 12ms/step - accuracy: 0.9992 - loss: 0.0021\n",
      "Epoch 30/80\n",
      "20/20 - 0s - 9ms/step - accuracy: 0.9990 - loss: 0.0045\n",
      "Epoch 31/80\n",
      "20/20 - 0s - 8ms/step - accuracy: 0.9981 - loss: 0.0057\n",
      "Epoch 32/80\n",
      "20/20 - 0s - 8ms/step - accuracy: 0.9991 - loss: 0.0028\n",
      "Epoch 33/80\n",
      "20/20 - 0s - 10ms/step - accuracy: 0.9981 - loss: 0.0070\n",
      "Epoch 34/80\n",
      "20/20 - 0s - 15ms/step - accuracy: 0.9966 - loss: 0.0088\n",
      "Epoch 35/80\n",
      "20/20 - 0s - 9ms/step - accuracy: 0.9974 - loss: 0.0089\n",
      "Epoch 36/80\n",
      "20/20 - 0s - 8ms/step - accuracy: 0.9986 - loss: 0.0039\n",
      "Epoch 37/80\n",
      "20/20 - 0s - 9ms/step - accuracy: 0.9992 - loss: 0.0024\n",
      "Epoch 38/80\n",
      "20/20 - 0s - 9ms/step - accuracy: 0.9991 - loss: 0.0021\n",
      "Epoch 39/80\n",
      "20/20 - 0s - 14ms/step - accuracy: 0.9991 - loss: 0.0023\n",
      "Epoch 40/80\n",
      "20/20 - 0s - 14ms/step - accuracy: 0.9986 - loss: 0.0042\n",
      "Epoch 41/80\n",
      "20/20 - 0s - 17ms/step - accuracy: 0.9981 - loss: 0.0055\n",
      "Epoch 42/80\n",
      "20/20 - 0s - 9ms/step - accuracy: 0.9983 - loss: 0.0074\n",
      "Epoch 43/80\n",
      "20/20 - 0s - 15ms/step - accuracy: 0.9987 - loss: 0.0041\n",
      "Epoch 44/80\n",
      "20/20 - 0s - 9ms/step - accuracy: 0.9991 - loss: 0.0021\n",
      "Epoch 45/80\n",
      "20/20 - 0s - 9ms/step - accuracy: 0.9990 - loss: 0.0032\n",
      "Epoch 46/80\n",
      "20/20 - 0s - 10ms/step - accuracy: 0.9994 - loss: 0.0026\n",
      "Epoch 47/80\n",
      "20/20 - 0s - 9ms/step - accuracy: 0.9991 - loss: 0.0032\n",
      "Epoch 48/80\n",
      "20/20 - 0s - 9ms/step - accuracy: 0.9977 - loss: 0.0068\n",
      "Epoch 49/80\n",
      "20/20 - 0s - 9ms/step - accuracy: 0.9987 - loss: 0.0037\n",
      "Epoch 50/80\n",
      "20/20 - 0s - 8ms/step - accuracy: 0.9993 - loss: 0.0026\n",
      "Epoch 51/80\n",
      "20/20 - 0s - 8ms/step - accuracy: 0.9989 - loss: 0.0023\n",
      "Epoch 52/80\n",
      "20/20 - 0s - 8ms/step - accuracy: 0.9991 - loss: 0.0032\n",
      "Epoch 53/80\n",
      "20/20 - 0s - 9ms/step - accuracy: 0.9996 - loss: 0.0010\n",
      "Epoch 54/80\n",
      "20/20 - 0s - 9ms/step - accuracy: 1.0000 - loss: 2.7174e-04\n",
      "Epoch 55/80\n",
      "20/20 - 0s - 9ms/step - accuracy: 1.0000 - loss: 5.2107e-05\n",
      "Epoch 56/80\n",
      "20/20 - 0s - 8ms/step - accuracy: 1.0000 - loss: 1.6870e-05\n",
      "Epoch 57/80\n",
      "20/20 - 0s - 9ms/step - accuracy: 1.0000 - loss: 1.1152e-05\n",
      "Epoch 58/80\n",
      "20/20 - 0s - 15ms/step - accuracy: 1.0000 - loss: 8.9102e-06\n",
      "Epoch 59/80\n",
      "20/20 - 0s - 8ms/step - accuracy: 1.0000 - loss: 7.4312e-06\n",
      "Epoch 60/80\n",
      "20/20 - 0s - 7ms/step - accuracy: 1.0000 - loss: 6.4041e-06\n",
      "Epoch 61/80\n",
      "20/20 - 0s - 8ms/step - accuracy: 1.0000 - loss: 5.6793e-06\n",
      "Epoch 62/80\n",
      "20/20 - 0s - 8ms/step - accuracy: 1.0000 - loss: 5.0668e-06\n",
      "Epoch 63/80\n",
      "20/20 - 0s - 7ms/step - accuracy: 1.0000 - loss: 4.5854e-06\n",
      "Epoch 64/80\n",
      "20/20 - 0s - 9ms/step - accuracy: 1.0000 - loss: 4.1568e-06\n",
      "Epoch 65/80\n",
      "20/20 - 0s - 8ms/step - accuracy: 1.0000 - loss: 3.8177e-06\n",
      "Epoch 66/80\n",
      "20/20 - 0s - 9ms/step - accuracy: 1.0000 - loss: 3.5101e-06\n",
      "Epoch 67/80\n",
      "20/20 - 0s - 8ms/step - accuracy: 1.0000 - loss: 3.2578e-06\n",
      "Epoch 68/80\n",
      "20/20 - 0s - 16ms/step - accuracy: 1.0000 - loss: 3.0214e-06\n",
      "Epoch 69/80\n",
      "20/20 - 0s - 8ms/step - accuracy: 1.0000 - loss: 2.8251e-06\n",
      "Epoch 70/80\n",
      "20/20 - 0s - 8ms/step - accuracy: 1.0000 - loss: 2.6383e-06\n",
      "Epoch 71/80\n",
      "20/20 - 0s - 7ms/step - accuracy: 1.0000 - loss: 2.4748e-06\n",
      "Epoch 72/80\n",
      "20/20 - 0s - 7ms/step - accuracy: 1.0000 - loss: 2.3313e-06\n",
      "Epoch 73/80\n",
      "20/20 - 0s - 8ms/step - accuracy: 1.0000 - loss: 2.2032e-06\n",
      "Epoch 74/80\n",
      "20/20 - 0s - 8ms/step - accuracy: 1.0000 - loss: 2.0785e-06\n",
      "Epoch 75/80\n",
      "20/20 - 0s - 8ms/step - accuracy: 1.0000 - loss: 1.9708e-06\n",
      "Epoch 76/80\n",
      "20/20 - 0s - 8ms/step - accuracy: 1.0000 - loss: 1.8723e-06\n",
      "Epoch 77/80\n",
      "20/20 - 0s - 7ms/step - accuracy: 1.0000 - loss: 1.7776e-06\n",
      "Epoch 78/80\n",
      "20/20 - 0s - 13ms/step - accuracy: 1.0000 - loss: 1.6916e-06\n",
      "Epoch 79/80\n",
      "20/20 - 0s - 8ms/step - accuracy: 1.0000 - loss: 1.6126e-06\n",
      "Epoch 80/80\n",
      "20/20 - 0s - 11ms/step - accuracy: 1.0000 - loss: 1.5410e-06\n"
     ]
    }
   ],
   "source": [
    "history = model.fit(x=X_train, y=y_train, verbose=2, batch_size=800,epochs=80, shuffle=True)"
   ]
  },
  {
   "cell_type": "code",
   "execution_count": 59,
   "metadata": {},
   "outputs": [
    {
     "name": "stdout",
     "output_type": "stream",
     "text": [
      "\u001b[1m125/125\u001b[0m \u001b[32m━━━━━━━━━━━━━━━━━━━━\u001b[0m\u001b[37m\u001b[0m \u001b[1m1s\u001b[0m 3ms/step - accuracy: 0.9543 - loss: 0.6191\n",
      "Accuracy: 95.32%\n"
     ]
    }
   ],
   "source": [
    "loss, accuracy = model.evaluate(X_test, y_test)\n",
    "print(f'Accuracy: {accuracy*100:.2f}%')\n"
   ]
  },
  {
   "cell_type": "code",
   "execution_count": 60,
   "metadata": {},
   "outputs": [
    {
     "name": "stdout",
     "output_type": "stream",
     "text": [
      "\u001b[1m125/125\u001b[0m \u001b[32m━━━━━━━━━━━━━━━━━━━━\u001b[0m\u001b[37m\u001b[0m \u001b[1m1s\u001b[0m 3ms/step\n",
      "              precision    recall  f1-score   support\n",
      "\n",
      "         0.0       0.96      0.95      0.95      1981\n",
      "         1.0       0.95      0.96      0.95      2019\n",
      "\n",
      "    accuracy                           0.95      4000\n",
      "   macro avg       0.95      0.95      0.95      4000\n",
      "weighted avg       0.95      0.95      0.95      4000\n",
      "\n"
     ]
    }
   ],
   "source": [
    "from sklearn.metrics import classification_report\n",
    "y_pred = (model.predict(X_test) > 0.5).astype(\"int32\")\n",
    "print(classification_report(y_test, y_pred))\n"
   ]
  },
  {
   "cell_type": "code",
   "execution_count": null,
   "metadata": {},
   "outputs": [],
   "source": []
  },
  {
   "cell_type": "markdown",
   "metadata": {},
   "source": [
    "# Gracias por la atención"
   ]
  }
 ],
 "metadata": {
  "kernelspec": {
   "display_name": "Python 3 (ipykernel)",
   "language": "python",
   "name": "python3"
  },
  "language_info": {
   "codemirror_mode": {
    "name": "ipython",
    "version": 3
   },
   "file_extension": ".py",
   "mimetype": "text/x-python",
   "name": "python",
   "nbconvert_exporter": "python",
   "pygments_lexer": "ipython3",
   "version": "3.11.7"
  }
 },
 "nbformat": 4,
 "nbformat_minor": 4
}
